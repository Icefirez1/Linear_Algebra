{
 "cells": [
  {
   "cell_type": "code",
   "execution_count": 1,
   "metadata": {},
   "outputs": [],
   "source": [
    "import numpy as np \n",
    "import math\n"
   ]
  },
  {
   "cell_type": "code",
   "execution_count": 2,
   "metadata": {},
   "outputs": [],
   "source": [
    "#Setting up arrays\n",
    "A = np.array([[.5, (math.pi)/6, 1],[1, math.pi/2, 1],[.5, 5*math.pi/6, 1],[0, math.pi, 1]])\n",
    "b = np.array([1,0,.5,1])\n",
    "newA = np.transpose(A)@A\n",
    "newb = np.transpose(A)@b"
   ]
  },
  {
   "cell_type": "code",
   "execution_count": 2,
   "metadata": {},
   "outputs": [],
   "source": [
    "#Setting up matricies\n",
    "A = np.array([[4,2],[1,-1],[1,1],[4,3]])\n",
    "b = np.array([2,1,1,3])\n",
    "newA = np.transpose(A)@A\n",
    "newb = np.transpose(A)@b"
   ]
  },
  {
   "cell_type": "code",
   "execution_count": 3,
   "metadata": {},
   "outputs": [
    {
     "data": {
      "text/plain": [
       "array([0.63636364, 0.01818182])"
      ]
     },
     "execution_count": 3,
     "metadata": {},
     "output_type": "execute_result"
    }
   ],
   "source": [
    "#Solves for x in Ax=b\n",
    "np.linalg.solve(newA,newb) #Each Vector is a coeeficient in the succesive eqation"
   ]
  },
  {
   "cell_type": "code",
   "execution_count": 4,
   "metadata": {},
   "outputs": [
    {
     "data": {
      "text/plain": [
       "(4, 3)"
      ]
     },
     "execution_count": 4,
     "metadata": {},
     "output_type": "execute_result"
    }
   ],
   "source": [
    "A.shape #returns matrix dimensions"
   ]
  }
 ],
 "metadata": {
  "kernelspec": {
   "display_name": "Python 3.9.13 64-bit (microsoft store)",
   "language": "python",
   "name": "python3"
  },
  "language_info": {
   "codemirror_mode": {
    "name": "ipython",
    "version": 3
   },
   "file_extension": ".py",
   "mimetype": "text/x-python",
   "name": "python",
   "nbconvert_exporter": "python",
   "pygments_lexer": "ipython3",
   "version": "3.9.13"
  },
  "orig_nbformat": 4,
  "vscode": {
   "interpreter": {
    "hash": "167f38343f0902dfcae3eac2cdb778d1d7a5e8ec432aebc7ba03e25114a1bf61"
   }
  }
 },
 "nbformat": 4,
 "nbformat_minor": 2
}
